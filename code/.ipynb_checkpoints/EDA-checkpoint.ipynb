{
 "cells": [
  {
   "cell_type": "markdown",
   "id": "1fbeac38",
   "metadata": {},
   "source": [
    "### 1.用于探索性数据分析，完成数据可视化等工作"
   ]
  },
  {
   "cell_type": "code",
   "execution_count": 104,
   "id": "25a5e32c",
   "metadata": {},
   "outputs": [
    {
     "data": {
      "text/plain": [
       "['Contents',\n",
       " 'Table S9',\n",
       " 'Table S10',\n",
       " 'Table S11',\n",
       " 'Table S12',\n",
       " 'Table S13',\n",
       " 'Table S14',\n",
       " 'Table S15',\n",
       " 'Table S16']"
      ]
     },
     "execution_count": 104,
     "metadata": {},
     "output_type": "execute_result"
    }
   ],
   "source": [
    "import pandas as pd\n",
    "import seaborn as sns\n",
    "# Load the spreadsheet\n",
    "file_path = './data.xlsx'\n",
    "xls = pd.ExcelFile(file_path)\n",
    "\n",
    "# List all sheet names to understand the structure of the file\n",
    "sheet_names = xls.sheet_names\n",
    "sheet_names\n"
   ]
  },
  {
   "cell_type": "code",
   "execution_count": 3,
   "id": "01205f0e",
   "metadata": {},
   "outputs": [],
   "source": [
    "# 加载表格\n",
    "file_path = './data.xlsx'  \n",
    "xls = pd.ExcelFile(file_path)\n",
    "table_s9 = pd.read_excel(xls, 'Table S9')\n",
    "\n",
    "# 清理数据\n",
    "table_s9.columns = table_s9.iloc[1]  # 使用第二行作为列名\n",
    "table_s9 = table_s9.drop([0, 1]).reset_index(drop=True)  # 删除前两行并重置索引"
   ]
  },
  {
   "cell_type": "code",
   "execution_count": 4,
   "id": "18ec01da",
   "metadata": {},
   "outputs": [
    {
     "data": {
      "text/plain": [
       "Index(['Regions', 'Crop', 'Yield\\n(kg/ha)', 'Blue Water\\n(m3/ha)',\n",
       "       'Green Water\\n(m3/ha)', 'GHGs\\n(kg eq CO2/ha)', 'Nitrogen\\n(kg N/ha)',\n",
       "       'Phosphorus\\n(kg P2O5/ha)', 'Potash\\n(kg K2O/ha)',\n",
       "       'Pesticides\\n(kg/ha)', 'Net Profit\\n(US$/ha)', 'Harvested Area\\n(ha)'],\n",
       "      dtype='object', name=1)"
      ]
     },
     "execution_count": 4,
     "metadata": {},
     "output_type": "execute_result"
    }
   ],
   "source": [
    "table_s9.columns"
   ]
  },
  {
   "cell_type": "code",
   "execution_count": 11,
   "id": "5825fb6c",
   "metadata": {},
   "outputs": [],
   "source": [
    "# 分别提取七个地区的数据\n",
    "regions = ['Northeast', 'North China', 'Yangtze', 'Southern China', 'Northwest', ' Southwest', 'Tibet']\n",
    "\n",
    "# 创建每个地区的单独数据框\n",
    "dfs = {region: table_s9[table_s9['Regions'] == region][table_s9.columns].reset_index(drop=True) for region in regions}"
   ]
  },
  {
   "cell_type": "code",
   "execution_count": 14,
   "id": "18212f61",
   "metadata": {},
   "outputs": [
    {
     "data": {
      "text/html": [
       "<div>\n",
       "<style scoped>\n",
       "    .dataframe tbody tr th:only-of-type {\n",
       "        vertical-align: middle;\n",
       "    }\n",
       "\n",
       "    .dataframe tbody tr th {\n",
       "        vertical-align: top;\n",
       "    }\n",
       "\n",
       "    .dataframe thead th {\n",
       "        text-align: right;\n",
       "    }\n",
       "</style>\n",
       "<table border=\"1\" class=\"dataframe\">\n",
       "  <thead>\n",
       "    <tr style=\"text-align: right;\">\n",
       "      <th>1</th>\n",
       "      <th>Regions</th>\n",
       "      <th>Crop</th>\n",
       "      <th>Yield\\n(kg/ha)</th>\n",
       "      <th>Blue Water\\n(m3/ha)</th>\n",
       "      <th>Green Water\\n(m3/ha)</th>\n",
       "      <th>GHGs\\n(kg eq CO2/ha)</th>\n",
       "      <th>Nitrogen\\n(kg N/ha)</th>\n",
       "      <th>Phosphorus\\n(kg P2O5/ha)</th>\n",
       "      <th>Potash\\n(kg K2O/ha)</th>\n",
       "      <th>Pesticides\\n(kg/ha)</th>\n",
       "      <th>Net Profit\\n(US$/ha)</th>\n",
       "      <th>Harvested Area\\n(ha)</th>\n",
       "    </tr>\n",
       "  </thead>\n",
       "  <tbody>\n",
       "    <tr>\n",
       "      <th>0</th>\n",
       "      <td>Northeast</td>\n",
       "      <td>Wheat</td>\n",
       "      <td>4008.862726</td>\n",
       "      <td>450.58814</td>\n",
       "      <td>1970.056752</td>\n",
       "      <td>3.15098</td>\n",
       "      <td>159.144914</td>\n",
       "      <td>100.732956</td>\n",
       "      <td>9.658233</td>\n",
       "      <td>4.042886</td>\n",
       "      <td>90.098207</td>\n",
       "      <td>344757.8</td>\n",
       "    </tr>\n",
       "    <tr>\n",
       "      <th>1</th>\n",
       "      <td>Northeast</td>\n",
       "      <td>Rice</td>\n",
       "      <td>6971.224029</td>\n",
       "      <td>2708.891439</td>\n",
       "      <td>3880.23585</td>\n",
       "      <td>5.04133</td>\n",
       "      <td>165.864822</td>\n",
       "      <td>78.96508</td>\n",
       "      <td>71.092529</td>\n",
       "      <td>18.424733</td>\n",
       "      <td>970.737479</td>\n",
       "      <td>3319167</td>\n",
       "    </tr>\n",
       "    <tr>\n",
       "      <th>2</th>\n",
       "      <td>Northeast</td>\n",
       "      <td>Maize</td>\n",
       "      <td>6467.48858</td>\n",
       "      <td>241.087475</td>\n",
       "      <td>3136.319869</td>\n",
       "      <td>1.179913</td>\n",
       "      <td>175.230883</td>\n",
       "      <td>93.540597</td>\n",
       "      <td>60.74403</td>\n",
       "      <td>8.245211</td>\n",
       "      <td>416.511346</td>\n",
       "      <td>9483499.2</td>\n",
       "    </tr>\n",
       "    <tr>\n",
       "      <th>3</th>\n",
       "      <td>Northeast</td>\n",
       "      <td>soybean</td>\n",
       "      <td>1707.137789</td>\n",
       "      <td>28.426541</td>\n",
       "      <td>3016.964595</td>\n",
       "      <td>1.840261</td>\n",
       "      <td>60.592214</td>\n",
       "      <td>62.622626</td>\n",
       "      <td>31.378579</td>\n",
       "      <td>8.491156</td>\n",
       "      <td>224.481575</td>\n",
       "      <td>4575899.3</td>\n",
       "    </tr>\n",
       "    <tr>\n",
       "      <th>4</th>\n",
       "      <td>Northeast</td>\n",
       "      <td>rapeseed</td>\n",
       "      <td>1786.043985</td>\n",
       "      <td>2.224894</td>\n",
       "      <td>465.355569</td>\n",
       "      <td>1.639008</td>\n",
       "      <td>190.629915</td>\n",
       "      <td>39.004368</td>\n",
       "      <td>0.918085</td>\n",
       "      <td>0.215088</td>\n",
       "      <td>-1092.575121</td>\n",
       "      <td>84248.5</td>\n",
       "    </tr>\n",
       "    <tr>\n",
       "      <th>5</th>\n",
       "      <td>Northeast</td>\n",
       "      <td>groundnut</td>\n",
       "      <td>2586.913008</td>\n",
       "      <td>437.943538</td>\n",
       "      <td>3113.729377</td>\n",
       "      <td>0.593604</td>\n",
       "      <td>126.34871</td>\n",
       "      <td>89.984782</td>\n",
       "      <td>59.459686</td>\n",
       "      <td>20.78099</td>\n",
       "      <td>741.540534</td>\n",
       "      <td>536157.2</td>\n",
       "    </tr>\n",
       "    <tr>\n",
       "      <th>6</th>\n",
       "      <td>Northeast</td>\n",
       "      <td>cotton</td>\n",
       "      <td>6342.937118</td>\n",
       "      <td>31.289653</td>\n",
       "      <td>3466.975997</td>\n",
       "      <td>0.288799</td>\n",
       "      <td>218.707268</td>\n",
       "      <td>127.415703</td>\n",
       "      <td>77.153247</td>\n",
       "      <td>43.233765</td>\n",
       "      <td>3507.687659</td>\n",
       "      <td>6014.1</td>\n",
       "    </tr>\n",
       "    <tr>\n",
       "      <th>7</th>\n",
       "      <td>Northeast</td>\n",
       "      <td>sugbeet</td>\n",
       "      <td>64913.650576</td>\n",
       "      <td>30.576147</td>\n",
       "      <td>3581.030078</td>\n",
       "      <td>1.476786</td>\n",
       "      <td>187.98675</td>\n",
       "      <td>112.08113</td>\n",
       "      <td>34.766015</td>\n",
       "      <td>6.315624</td>\n",
       "      <td>1216.527624</td>\n",
       "      <td>36792.1</td>\n",
       "    </tr>\n",
       "    <tr>\n",
       "      <th>8</th>\n",
       "      <td>Northeast</td>\n",
       "      <td>sugcane</td>\n",
       "      <td>0</td>\n",
       "      <td>0</td>\n",
       "      <td>0</td>\n",
       "      <td>0</td>\n",
       "      <td>0</td>\n",
       "      <td>0</td>\n",
       "      <td>0</td>\n",
       "      <td>0</td>\n",
       "      <td>0</td>\n",
       "      <td>0</td>\n",
       "    </tr>\n",
       "  </tbody>\n",
       "</table>\n",
       "</div>"
      ],
      "text/plain": [
       "1    Regions       Crop Yield\\n(kg/ha) Blue Water\\n(m3/ha)  \\\n",
       "0  Northeast      Wheat    4008.862726           450.58814   \n",
       "1  Northeast       Rice    6971.224029         2708.891439   \n",
       "2  Northeast      Maize     6467.48858          241.087475   \n",
       "3  Northeast    soybean    1707.137789           28.426541   \n",
       "4  Northeast   rapeseed    1786.043985            2.224894   \n",
       "5  Northeast  groundnut    2586.913008          437.943538   \n",
       "6  Northeast     cotton    6342.937118           31.289653   \n",
       "7  Northeast    sugbeet   64913.650576           30.576147   \n",
       "8  Northeast    sugcane              0                   0   \n",
       "\n",
       "1 Green Water\\n(m3/ha) GHGs\\n(kg eq CO2/ha) Nitrogen\\n(kg N/ha)  \\\n",
       "0          1970.056752              3.15098          159.144914   \n",
       "1           3880.23585              5.04133          165.864822   \n",
       "2          3136.319869             1.179913          175.230883   \n",
       "3          3016.964595             1.840261           60.592214   \n",
       "4           465.355569             1.639008          190.629915   \n",
       "5          3113.729377             0.593604           126.34871   \n",
       "6          3466.975997             0.288799          218.707268   \n",
       "7          3581.030078             1.476786           187.98675   \n",
       "8                    0                    0                   0   \n",
       "\n",
       "1 Phosphorus\\n(kg P2O5/ha) Potash\\n(kg K2O/ha) Pesticides\\n(kg/ha)  \\\n",
       "0               100.732956            9.658233            4.042886   \n",
       "1                 78.96508           71.092529           18.424733   \n",
       "2                93.540597            60.74403            8.245211   \n",
       "3                62.622626           31.378579            8.491156   \n",
       "4                39.004368            0.918085            0.215088   \n",
       "5                89.984782           59.459686            20.78099   \n",
       "6               127.415703           77.153247           43.233765   \n",
       "7                112.08113           34.766015            6.315624   \n",
       "8                        0                   0                   0   \n",
       "\n",
       "1 Net Profit\\n(US$/ha) Harvested Area\\n(ha)  \n",
       "0            90.098207             344757.8  \n",
       "1           970.737479              3319167  \n",
       "2           416.511346            9483499.2  \n",
       "3           224.481575            4575899.3  \n",
       "4         -1092.575121              84248.5  \n",
       "5           741.540534             536157.2  \n",
       "6          3507.687659               6014.1  \n",
       "7          1216.527624              36792.1  \n",
       "8                    0                    0  "
      ]
     },
     "execution_count": 14,
     "metadata": {},
     "output_type": "execute_result"
    }
   ],
   "source": [
    "dfs['Northeast']"
   ]
  },
  {
   "cell_type": "markdown",
   "id": "a4de2bc5",
   "metadata": {},
   "source": [
    "\n",
    "### 比较全国各区域总作物产量\n",
    "\n",
    "计算production，对应原文公式(1) \n",
    "$$\n",
    "Production = \\sum_{i} HA_{i} \\times YLD_{i,z}\n",
    "$$"
   ]
  },
  {
   "cell_type": "code",
   "execution_count": 21,
   "id": "dd08b3eb",
   "metadata": {},
   "outputs": [],
   "source": [
    "total_yields = {}\n",
    "for region, df in dfs.items():\n",
    "    df['Production'] = df['Yield\\n(kg/ha)'] * df['Harvested Area\\n(ha)']\n",
    "    total_yields[region] = df['Production'].sum()"
   ]
  },
  {
   "cell_type": "code",
   "execution_count": 22,
   "id": "9334a68e",
   "metadata": {},
   "outputs": [
    {
     "data": {
      "text/plain": [
       "{'Northeast': 97630776973.28357,\n",
       " 'North China': 153832545581.03867,\n",
       " 'Yangtze': 130431703169.73157,\n",
       " 'Southern China': 34098823511.154625,\n",
       " 'Northwest': 71168596321.45511,\n",
       " ' Southwest': 168272062911.38132,\n",
       " 'Tibet': 1112006489.60433}"
      ]
     },
     "execution_count": 22,
     "metadata": {},
     "output_type": "execute_result"
    }
   ],
   "source": [
    "total_yields"
   ]
  },
  {
   "cell_type": "code",
   "execution_count": 99,
   "id": "6786f4cb",
   "metadata": {},
   "outputs": [],
   "source": [
    "# 数据\n",
    "data = {\n",
    "    'NE': 97630776973.28357,\n",
    "    'NC': 153832545581.03867,\n",
    "    'YZ': 130431703169.73157,\n",
    "    'SC': 34098823511.154625,\n",
    "    'NW': 71168596321.45511,\n",
    "    'SW': 168272062911.38132,\n",
    "    'TR': 1112006489.60433\n",
    "}"
   ]
  },
  {
   "cell_type": "code",
   "execution_count": 105,
   "id": "c7a0b7c6",
   "metadata": {},
   "outputs": [
    {
     "data": {
      "image/png": "[encoded data removed]",
      "text/plain": [
       "<Figure size 1000x600 with 1 Axes>"
      ]
     },
     "metadata": {},
     "output_type": "display_data"
    }
   ],
   "source": [
    "# 饼状图\n",
    "labels = list(data.keys())\n",
    "sizes = list(data.values())\n",
    "plt.figure(figsize=(10, 6))\n",
    "plt.pie(sizes, labels=labels, autopct='%1.1f%%', startangle=140)\n",
    "plt.title('Production of China by Region')\n",
    "plt.axis('equal')  # Equal aspect ratio ensures that pie is drawn as a circle.\n",
    "plt.show()"
   ]
  },
  {
   "cell_type": "code",
   "execution_count": 106,
   "id": "e206d1e0",
   "metadata": {},
   "outputs": [
    {
     "name": "stderr",
     "output_type": "stream",
     "text": [
      "c:\\Users\\10345\\anaconda3\\Lib\\site-packages\\seaborn\\_oldcore.py:1765: FutureWarning: unique with argument that is not not a Series, Index, ExtensionArray, or np.ndarray is deprecated and will raise in a future version.\n",
      "  order = pd.unique(vector)\n"
     ]
    },
    {
     "data": {
      "image/png": "[encoded data removed]",
      "text/plain": [
       "<Figure size 1200x600 with 1 Axes>"
      ]
     },
     "metadata": {},
     "output_type": "display_data"
    }
   ],
   "source": [
    "plt.figure(figsize=(12, 6))\n",
    "sns.barplot(x=labels, y=sizes)\n",
    "plt.title('Production by Region')\n",
    "plt.xlabel('Region')\n",
    "plt.ylabel('Value')\n",
    "plt.xticks(rotation=45)\n",
    "plt.show()"
   ]
  },
  {
   "cell_type": "code",
   "execution_count": 150,
   "id": "e28d56a2",
   "metadata": {},
   "outputs": [
    {
     "data": {
      "text/plain": [
       "'c:\\\\Users\\\\10345\\\\OneDrive\\\\myjupyter\\\\code\\\\china_production.html'"
      ]
     },
     "execution_count": 150,
     "metadata": {},
     "output_type": "execute_result"
    }
   ],
   "source": [
    "from pyecharts.charts import Map\n",
    "from pyecharts import options as opts\n",
    "from pyecharts.commons.utils import JsCode\n",
    "\n",
    "\n",
    "\n",
    "# 省份与缩写的映射关系\n",
    "province_map = {\n",
    "    'NE': ['黑龙江省', '吉林省', '辽宁省','内蒙古自治区'],\n",
    "    'NC': ['北京市', '天津市', '河北省','河南省', '山东省'],\n",
    "    'YZ': ['上海市', '江苏省', '浙江省', '安徽省',  '江西省','湖北省','湖南省'],\n",
    "    'SC': ['广东省', '福建省', '海南省'],\n",
    "    'NW': ['陕西省', '甘肃省', '山西省', '宁夏回族自治区', '新疆维吾尔自治区'],\n",
    "    'SW': ['重庆市', '四川省', '贵州省', '云南省', '广西壮族自治区'],\n",
    "    'TR': ['西藏自治区','青海省']\n",
    "}\n",
    "\n",
    "# 创建地图\n",
    "map_chart = Map()\n",
    "map_chart.add(\n",
    "    series_name=\"Production\",\n",
    "    data_pair=[(k, v) for k, v in data.items()],\n",
    "    maptype=\"china\",\n",
    "    is_map_symbol_show=True\n",
    ")\n",
    "map_chart.set_series_opts(label_opts=opts.LabelOpts(is_show=False))\n",
    "map_chart.set_global_opts(\n",
    "    title_opts=opts.TitleOpts(title=\"中国各区域粮食产量\"),\n",
    "    visualmap_opts=opts.VisualMapOpts(\n",
    "        max_=21e11,\n",
    "        min_=0,\n",
    "        is_piecewise=True,\n",
    "        pieces=[\n",
    "            {\"min\": 0e10, \"max\": 2e10},\n",
    "            {\"min\": 2e10, \"max\": 5e10},\n",
    "            {\"min\": 5e10, \"max\": 7e10},\n",
    "            {\"min\": 7e10, \"max\": 9e10},\n",
    "            {\"min\": 9e10, \"max\": 11e10},\n",
    "            {\"min\": 11e10, \"max\": 13e10},\n",
    "            {\"min\": 13e10, \"max\": 15e10},\n",
    "            {\"min\": 15e10, \"max\": 17e10},\n",
    "            {\"min\": 17e10, \"max\": 19e10},\n",
    "            {\"min\": 19e10, \"max\": 21e10},\n",
    "            {\"min\":21e10}\n",
    "        ],\n",
    "        pos_top=\"middle\",\n",
    "        pos_left=\"left\"\n",
    "    )\n",
    ")\n",
    "\n",
    "# 标注省份数据\n",
    "for region, provinces in province_map.items():\n",
    "    for province in provinces:\n",
    "        map_chart.add(\n",
    "            series_name=\"\",\n",
    "            data_pair=[(province, data[region])],\n",
    "            maptype=\"china\",\n",
    "            is_map_symbol_show=False,\n",
    "            label_opts=opts.LabelOpts(\n",
    "                is_show=True,\n",
    "                position=\"inside\",\n",
    "                formatter=JsCode(\"function (params) {return params.name;}\"),\n",
    "                font_size=8,\n",
    "            ),\n",
    "        )\n",
    "\n",
    "# 渲染地图\n",
    "map_chart.render('china_production.html')\n"
   ]
  },
  {
   "cell_type": "markdown",
   "id": "7be60d8c",
   "metadata": {},
   "source": [
    "结果如下图所示：在2010年西南(SW),长江平原(YZ),华北平原地区(NC)贡献了我国粮食的主要产量\n",
    "\n",
    "![image-20240527210335043](https://chenzhanghao.oss-cn-shenzhen.aliyuncs.com/image-20240527210335043.png)"
   ]
  },
  {
   "cell_type": "markdown",
   "id": "63acb351",
   "metadata": {},
   "source": [
    "### Water model：全国绿水，蓝水使用量分析"
   ]
  },
  {
   "cell_type": "markdown",
   "id": "44d3d3a9",
   "metadata": {},
   "source": [
    "绿水指的是作物生长期消耗的有效降水量,蓝水是指在作物生长季节的自然有效降水不足以维持作物的正常生长时，需要通过灌溉补充的水量\n",
    "\n",
    "#### 总绿水使用量公式\n",
    "$$\n",
    "\\text{TGW}_{\\text{irr/ra},i} = \\sum_z \\text{HA}_{\\text{irr/ra},i,z} \\times \\text{GW}_{i,z}\n",
    "$$\n",
    "\n",
    "\n",
    "\n",
    "#### 总蓝水使用量公式\n",
    "$$\n",
    "\\text{TBW}_{\\text{irr},i} = \\sum_z \\text{HA}_{\\text{irr},i,z} \\times \\text{BW}_{i,z}\n",
    "$$"
   ]
  },
  {
   "cell_type": "code",
   "execution_count": 119,
   "id": "356139bd",
   "metadata": {},
   "outputs": [],
   "source": [
    "total_blue_water = {}\n",
    "total_green_water = {}\n",
    "for region, df in dfs.items():\n",
    "    df['Total Blue Water (m3)'] = df['Blue Water\\n(m3/ha)'] * df['Harvested Area\\n(ha)']\n",
    "    df['Total Green Water (m3)'] = df['Green Water\\n(m3/ha)'] * df['Harvested Area\\n(ha)']\n",
    "    total_blue_water[region] = df['Total Blue Water (m3)'].sum()\n",
    "    total_green_water[region] = df['Total Green Water (m3)'].sum()"
   ]
  },
  {
   "cell_type": "code",
   "execution_count": 121,
   "id": "64d9f8f2",
   "metadata": {},
   "outputs": [
    {
     "data": {
      "text/plain": [
       "{'Northeast': 58968214656.63645,\n",
       " 'North China': 72612165964.61945,\n",
       " 'Yangtze': 92178284056.02237,\n",
       " 'Southern China': 20416615457.934563,\n",
       " 'Northwest': 31543372705.269745,\n",
       " ' Southwest': 69150937545.74623,\n",
       " 'Tibet': 942020761.88587}"
      ]
     },
     "execution_count": 121,
     "metadata": {},
     "output_type": "execute_result"
    }
   ],
   "source": [
    "total_green_water"
   ]
  },
  {
   "cell_type": "code",
   "execution_count": 139,
   "id": "a7e63e64",
   "metadata": {},
   "outputs": [
    {
     "data": {
      "text/plain": [
       "{'Northeast': 11799343882.15395,\n",
       " 'North China': 39502472476.71481,\n",
       " 'Yangtze': 21745947693.38227,\n",
       " 'Southern China': 3288572302.26558,\n",
       " 'Northwest': 35245929838.61415,\n",
       " ' Southwest': 6957393173.395659,\n",
       " 'Tibet': 390958173.68723005}"
      ]
     },
     "execution_count": 139,
     "metadata": {},
     "output_type": "execute_result"
    }
   ],
   "source": [
    "total_blue_water"
   ]
  },
  {
   "cell_type": "code",
   "execution_count": 152,
   "id": "96e149d6",
   "metadata": {},
   "outputs": [],
   "source": [
    "province_greenwater_usage = {}\n",
    "\n",
    "for region, provinces in province_map.items():\n",
    "    region_name = ''\n",
    "    if region == 'NE':\n",
    "        region_name = 'Northeast'\n",
    "    elif region == 'NC':\n",
    "        region_name = 'North China'\n",
    "    elif region == 'YZ':\n",
    "        region_name = 'Yangtze'\n",
    "    elif region == 'SC':\n",
    "        region_name = 'Southern China'\n",
    "    elif region == 'NW':\n",
    "        region_name = 'Northwest'\n",
    "    elif region == 'SW':\n",
    "        region_name = ' Southwest'\n",
    "    elif region == 'TR':\n",
    "        region_name = 'Tibet'\n",
    "\n",
    "    for province in provinces:\n",
    "        province_greenwater_usage[province] = total_green_water[region_name]\n"
   ]
  },
  {
   "cell_type": "code",
   "execution_count": 153,
   "id": "d7e87183",
   "metadata": {},
   "outputs": [
    {
     "data": {
      "text/plain": [
       "'c:\\\\Users\\\\10345\\\\OneDrive\\\\myjupyter\\\\code\\\\china_green_water_map.html'"
      ]
     },
     "execution_count": 153,
     "metadata": {},
     "output_type": "execute_result"
    }
   ],
   "source": [
    "# 绿水使用量地图\n",
    "green_water_map = Map()\n",
    "green_water_map.add(\"绿水使用量\", [list(z) for z in province_greenwater_usage.items()], \"china\")\n",
    "green_water_map.set_global_opts(\n",
    "    title_opts=opts.TitleOpts(title=\"中国各区域绿水使用量\"),\n",
    "    visualmap_opts=opts.VisualMapOpts(max_=max(total_green_water.values()), min_=min(total_green_water.values()))\n",
    ")\n",
    "green_water_map.render('china_green_water_map.html')"
   ]
  },
  {
   "cell_type": "markdown",
   "id": "c853a9ed",
   "metadata": {},
   "source": [
    "分析绿水用量可以发现，我国长江中下游平原地区降水量丰富，结合蓝水需求量来看供水仍有压力，仍需进一步安排合理使用水资源。我国南部（广东福建一带）降雨量丰富，绿水供应充足，但结合上面我国粮食产量，南部地区种植总量仅仅占全国总量的5.2%，存在供大于求的情况。建议可以在南部地区种植一些耗水量需求大的作物，合理作物分配，以提高绿水利用率。\n",
    "\n",
    "![](https://chenzhanghao.oss-cn-shenzhen.aliyuncs.com/image-20240528163501520.png)"
   ]
  },
  {
   "cell_type": "code",
   "execution_count": 143,
   "id": "106b1414",
   "metadata": {},
   "outputs": [],
   "source": [
    "province_bluewater_usage = {}\n",
    "\n",
    "for region, provinces in province_map.items():\n",
    "    region_name = ''\n",
    "    if region == 'NE':\n",
    "        region_name = 'Northeast'\n",
    "    elif region == 'NC':\n",
    "        region_name = 'North China'\n",
    "    elif region == 'YZ':\n",
    "        region_name = 'Yangtze'\n",
    "    elif region == 'SC':\n",
    "        region_name = 'Southern China'\n",
    "    elif region == 'NW':\n",
    "        region_name = 'Northwest'\n",
    "    elif region == 'SW':\n",
    "        region_name = ' Southwest'\n",
    "    elif region == 'TR':\n",
    "        region_name = 'Tibet'\n",
    "\n",
    "    for province in provinces:\n",
    "        province_bluewater_usage[province] = total_blue_water[region_name]\n"
   ]
  },
  {
   "cell_type": "code",
   "execution_count": 149,
   "id": "7417a672",
   "metadata": {},
   "outputs": [
    {
     "data": {
      "text/plain": [
       "'c:\\\\Users\\\\10345\\\\OneDrive\\\\myjupyter\\\\code\\\\china_blue_water_map.html'"
      ]
     },
     "execution_count": 149,
     "metadata": {},
     "output_type": "execute_result"
    }
   ],
   "source": [
    "# 蓝水使用量地图\n",
    "blue_water_map = Map()\n",
    "blue_water_map.add(\"蓝水使用量\", [list(z) for z in province_bluewater_usage.items()], \"china\")\n",
    "blue_water_map.set_global_opts(\n",
    "    title_opts=opts.TitleOpts(title=\"中国各区域蓝水使用量\"),\n",
    "    visualmap_opts=opts.VisualMapOpts(max_=max(total_blue_water.values()), min_=min(total_blue_water.values()))\n",
    ")\n",
    "blue_water_map.render('china_blue_water_map.html')"
   ]
  },
  {
   "cell_type": "markdown",
   "id": "641a1792",
   "metadata": {},
   "source": [
    "可以发现西北地区蓝水使用量较高，该地区较为干旱，作物普遍需要人工补水\n",
    "而华北平原作为我国粮产大省，同样面临严峻蓝水资源短缺的问题\n",
    "![image-20240528162351878](https://chenzhanghao.oss-cn-shenzhen.aliyuncs.com/image-20240528162351878.png)"
   ]
  },
  {
   "cell_type": "markdown",
   "id": "d007cb2f",
   "metadata": {},
   "source": [
    "为了通过作物转换促进我国可持续发展，在进行最后的优化之前，我们可以先通过分析不同作物耗水量的相关关系，对如何进行作物转换有一个大概的概念"
   ]
  },
  {
   "cell_type": "code",
   "execution_count": 155,
   "id": "34c45d62",
   "metadata": {},
   "outputs": [],
   "source": [
    "water_usage_by_crop = df.groupby('Crop').agg({\n",
    "    'Blue Water\\n(m3/ha)': 'mean',\n",
    "    'Green Water\\n(m3/ha)': 'mean'\n",
    "}).reset_index()"
   ]
  },
  {
   "cell_type": "code",
   "execution_count": 156,
   "id": "4dc795af",
   "metadata": {},
   "outputs": [
    {
     "data": {
      "text/html": [
       "<div>\n",
       "<style scoped>\n",
       "    .dataframe tbody tr th:only-of-type {\n",
       "        vertical-align: middle;\n",
       "    }\n",
       "\n",
       "    .dataframe tbody tr th {\n",
       "        vertical-align: top;\n",
       "    }\n",
       "\n",
       "    .dataframe thead th {\n",
       "        text-align: right;\n",
       "    }\n",
       "</style>\n",
       "<table border=\"1\" class=\"dataframe\">\n",
       "  <thead>\n",
       "    <tr style=\"text-align: right;\">\n",
       "      <th>1</th>\n",
       "      <th>Crop</th>\n",
       "      <th>Blue Water\\n(m3/ha)</th>\n",
       "      <th>Green Water\\n(m3/ha)</th>\n",
       "    </tr>\n",
       "  </thead>\n",
       "  <tbody>\n",
       "    <tr>\n",
       "      <th>0</th>\n",
       "      <td>Maize</td>\n",
       "      <td>167.187621</td>\n",
       "      <td>2728.247617</td>\n",
       "    </tr>\n",
       "    <tr>\n",
       "      <th>1</th>\n",
       "      <td>Rice</td>\n",
       "      <td>886.312603</td>\n",
       "      <td>3369.23381</td>\n",
       "    </tr>\n",
       "    <tr>\n",
       "      <th>2</th>\n",
       "      <td>Wheat</td>\n",
       "      <td>1847.136618</td>\n",
       "      <td>1159.384381</td>\n",
       "    </tr>\n",
       "    <tr>\n",
       "      <th>3</th>\n",
       "      <td>cotton</td>\n",
       "      <td>5332.965775</td>\n",
       "      <td>1970.20869</td>\n",
       "    </tr>\n",
       "    <tr>\n",
       "      <th>4</th>\n",
       "      <td>groundnut</td>\n",
       "      <td>0.0</td>\n",
       "      <td>2665.666985</td>\n",
       "    </tr>\n",
       "    <tr>\n",
       "      <th>5</th>\n",
       "      <td>rapeseed</td>\n",
       "      <td>785.515468</td>\n",
       "      <td>1200.842885</td>\n",
       "    </tr>\n",
       "    <tr>\n",
       "      <th>6</th>\n",
       "      <td>soybean</td>\n",
       "      <td>0.06592</td>\n",
       "      <td>2741.244873</td>\n",
       "    </tr>\n",
       "    <tr>\n",
       "      <th>7</th>\n",
       "      <td>sugbeet</td>\n",
       "      <td>249.656862</td>\n",
       "      <td>3517.390819</td>\n",
       "    </tr>\n",
       "    <tr>\n",
       "      <th>8</th>\n",
       "      <td>sugcane</td>\n",
       "      <td>0.0</td>\n",
       "      <td>4386.22103</td>\n",
       "    </tr>\n",
       "  </tbody>\n",
       "</table>\n",
       "</div>"
      ],
      "text/plain": [
       "1       Crop Blue Water\\n(m3/ha) Green Water\\n(m3/ha)\n",
       "0      Maize          167.187621          2728.247617\n",
       "1       Rice          886.312603           3369.23381\n",
       "2      Wheat         1847.136618          1159.384381\n",
       "3     cotton         5332.965775           1970.20869\n",
       "4  groundnut                 0.0          2665.666985\n",
       "5   rapeseed          785.515468          1200.842885\n",
       "6    soybean             0.06592          2741.244873\n",
       "7    sugbeet          249.656862          3517.390819\n",
       "8    sugcane                 0.0           4386.22103"
      ]
     },
     "execution_count": 156,
     "metadata": {},
     "output_type": "execute_result"
    }
   ],
   "source": [
    "water_usage_by_crop"
   ]
  },
  {
   "cell_type": "code",
   "execution_count": 160,
   "id": "50404528",
   "metadata": {},
   "outputs": [
    {
     "data": {
      "image/png": "[encoded data removed]",
      "text/plain": [
       "<Figure size 1200x800 with 1 Axes>"
      ]
     },
     "metadata": {},
     "output_type": "display_data"
    }
   ],
   "source": [
    "# 可视化每种作物的平均蓝水和绿水消耗\n",
    "plt.figure(figsize=(12, 8))\n",
    "sns.barplot(x='Crop', y='Blue Water\\n(m3/ha)', data=water_usage_by_crop, color='blue', label='Blue Water')\n",
    "sns.barplot(x='Crop', y='Green Water\\n(m3/ha)', data=water_usage_by_crop, color='green', bottom=water_usage_by_crop['Blue Water\\n(m3/ha)'], label='Green Water')\n",
    "plt.title('Average Water Usage by Crop Type')\n",
    "plt.xticks(rotation=45)\n",
    "plt.legend()\n",
    "plt.show()"
   ]
  },
  {
   "cell_type": "markdown",
   "id": "2e79ee2a",
   "metadata": {},
   "source": [
    "高耗蓝水作物：棉花（cotton）消耗量最高，其次是小麦（wheat）。\n",
    "高耗绿水作物：甘蔗（sugcane）和甜菜（sugbeet）消耗量最高。\n",
    "我们建议绿水消耗高的作物集中种植在南部沿海地区，减少对蓝水的消耗\n",
    "对棉花，小麦，大米等总耗水量较高的作物，建议合理供水结构，因地制宜，结合当地具体谷物结构进行优化\n"
   ]
  },
  {
   "cell_type": "markdown",
   "id": "faddc736",
   "metadata": {},
   "source": [
    "### Statistic model：氮磷钾农药+农民收入 五个指标"
   ]
  },
  {
   "cell_type": "code",
   "execution_count": 161,
   "id": "3ced8f3b",
   "metadata": {},
   "outputs": [],
   "source": [
    "npk_usage_by_crop = df.groupby('Crop').agg({\n",
    "    'Nitrogen\\n(kg N/ha)': 'mean',\n",
    "    'Phosphorus\\n(kg P2O5/ha)': 'mean',\n",
    "    'Potash\\n(kg K2O/ha)': 'mean'\n",
    "}).reset_index()"
   ]
  },
  {
   "cell_type": "code",
   "execution_count": 162,
   "id": "cbbcc1b6",
   "metadata": {},
   "outputs": [
    {
     "data": {
      "text/html": [
       "<div>\n",
       "<style scoped>\n",
       "    .dataframe tbody tr th:only-of-type {\n",
       "        vertical-align: middle;\n",
       "    }\n",
       "\n",
       "    .dataframe tbody tr th {\n",
       "        vertical-align: top;\n",
       "    }\n",
       "\n",
       "    .dataframe thead th {\n",
       "        text-align: right;\n",
       "    }\n",
       "</style>\n",
       "<table border=\"1\" class=\"dataframe\">\n",
       "  <thead>\n",
       "    <tr style=\"text-align: right;\">\n",
       "      <th>1</th>\n",
       "      <th>Crop</th>\n",
       "      <th>Nitrogen\\n(kg N/ha)</th>\n",
       "      <th>Phosphorus\\n(kg P2O5/ha)</th>\n",
       "      <th>Potash\\n(kg K2O/ha)</th>\n",
       "    </tr>\n",
       "  </thead>\n",
       "  <tbody>\n",
       "    <tr>\n",
       "      <th>0</th>\n",
       "      <td>Maize</td>\n",
       "      <td>243.276702</td>\n",
       "      <td>72.945286</td>\n",
       "      <td>31.083328</td>\n",
       "    </tr>\n",
       "    <tr>\n",
       "      <th>1</th>\n",
       "      <td>Rice</td>\n",
       "      <td>180.131395</td>\n",
       "      <td>60.341833</td>\n",
       "      <td>44.161029</td>\n",
       "    </tr>\n",
       "    <tr>\n",
       "      <th>2</th>\n",
       "      <td>Wheat</td>\n",
       "      <td>184.198139</td>\n",
       "      <td>94.228489</td>\n",
       "      <td>37.906451</td>\n",
       "    </tr>\n",
       "    <tr>\n",
       "      <th>3</th>\n",
       "      <td>cotton</td>\n",
       "      <td>370.679133</td>\n",
       "      <td>210.279874</td>\n",
       "      <td>20.059414</td>\n",
       "    </tr>\n",
       "    <tr>\n",
       "      <th>4</th>\n",
       "      <td>groundnut</td>\n",
       "      <td>118.389448</td>\n",
       "      <td>90.446823</td>\n",
       "      <td>68.897315</td>\n",
       "    </tr>\n",
       "    <tr>\n",
       "      <th>5</th>\n",
       "      <td>rapeseed</td>\n",
       "      <td>122.992218</td>\n",
       "      <td>74.464338</td>\n",
       "      <td>11.469179</td>\n",
       "    </tr>\n",
       "    <tr>\n",
       "      <th>6</th>\n",
       "      <td>soybean</td>\n",
       "      <td>55.95</td>\n",
       "      <td>51.0</td>\n",
       "      <td>25.35</td>\n",
       "    </tr>\n",
       "    <tr>\n",
       "      <th>7</th>\n",
       "      <td>sugbeet</td>\n",
       "      <td>235.65</td>\n",
       "      <td>151.35</td>\n",
       "      <td>22.05</td>\n",
       "    </tr>\n",
       "    <tr>\n",
       "      <th>8</th>\n",
       "      <td>sugcane</td>\n",
       "      <td>466.65</td>\n",
       "      <td>175.95</td>\n",
       "      <td>181.8</td>\n",
       "    </tr>\n",
       "  </tbody>\n",
       "</table>\n",
       "</div>"
      ],
      "text/plain": [
       "1       Crop Nitrogen\\n(kg N/ha) Phosphorus\\n(kg P2O5/ha) Potash\\n(kg K2O/ha)\n",
       "0      Maize          243.276702                72.945286           31.083328\n",
       "1       Rice          180.131395                60.341833           44.161029\n",
       "2      Wheat          184.198139                94.228489           37.906451\n",
       "3     cotton          370.679133               210.279874           20.059414\n",
       "4  groundnut          118.389448                90.446823           68.897315\n",
       "5   rapeseed          122.992218                74.464338           11.469179\n",
       "6    soybean               55.95                     51.0               25.35\n",
       "7    sugbeet              235.65                   151.35               22.05\n",
       "8    sugcane              466.65                   175.95               181.8"
      ]
     },
     "execution_count": 162,
     "metadata": {},
     "output_type": "execute_result"
    }
   ],
   "source": [
    "npk_usage_by_crop"
   ]
  },
  {
   "cell_type": "code",
   "execution_count": 172,
   "id": "f20c891e",
   "metadata": {},
   "outputs": [
    {
     "data": {
      "image/png": "[encoded data removed]",
      "text/plain": [
       "<Figure size 1200x800 with 1 Axes>"
      ]
     },
     "metadata": {},
     "output_type": "display_data"
    }
   ],
   "source": [
    "plt.figure(figsize=(12, 8))\n",
    "sns.barplot(x='Crop', y='Nitrogen\\n(kg N/ha)', data=npk_usage_by_crop, color='blue', label='N')\n",
    "sns.barplot(x='Crop', y='Phosphorus\\n(kg P2O5/ha)', data=npk_usage_by_crop, color='green', label='P', bottom=npk_usage_by_crop['Nitrogen\\n(kg N/ha)'])\n",
    "sns.barplot(x='Crop', y='Potash\\n(kg K2O/ha)', data=npk_usage_by_crop, color='red', label='K', bottom=npk_usage_by_crop['Nitrogen\\n(kg N/ha)'] + npk_usage_by_crop['Phosphorus\\n(kg P2O5/ha)'])\n",
    "plt.title('Average NPK Usage by Crop Type')\n",
    "plt.ylabel('Fertilizer (kg/ha)')\n",
    "plt.xticks(rotation=45)\n",
    "plt.legend()\n",
    "plt.show()"
   ]
  },
  {
   "cell_type": "markdown",
   "id": "1c666f42",
   "metadata": {},
   "source": [
    "棉花和甘蔗的肥料需求最高"
   ]
  },
  {
   "cell_type": "markdown",
   "id": "b829e3c4",
   "metadata": {},
   "source": [
    "#### 农药使用量公式\n",
    "$$\n",
    "\\text{TPT}_{\\text{irr/ra},i} = \\sum_z \\text{HA}_{\\text{irr/ra},i,z} \\times \\text{PT}_{i,z}\n",
    "$$\n",
    "\n",
    "\n",
    "\n",
    "#### 农民收入公式\n",
    "$$\n",
    "\\text{TFI}_{\\text{irr},i} = \\sum_z \\text{HA}_{\\text{irr},i,z} \\times \\text{YLD}_{\\text{irr},i,z} \\times \\text{NetProfit}_{i,z}\n",
    "$$"
   ]
  },
  {
   "cell_type": "code",
   "execution_count": 173,
   "id": "d77f2bd5",
   "metadata": {},
   "outputs": [],
   "source": [
    "pesticide_income_by_crop = df.groupby('Crop').agg({\n",
    "    'Pesticides\\n(kg/ha)': 'mean',\n",
    "    'Net Profit\\n(US$/ha)': 'mean'\n",
    "}).reset_index()"
   ]
  },
  {
   "cell_type": "code",
   "execution_count": 174,
   "id": "226b94a0",
   "metadata": {},
   "outputs": [
    {
     "data": {
      "text/html": [
       "<div>\n",
       "<style scoped>\n",
       "    .dataframe tbody tr th:only-of-type {\n",
       "        vertical-align: middle;\n",
       "    }\n",
       "\n",
       "    .dataframe tbody tr th {\n",
       "        vertical-align: top;\n",
       "    }\n",
       "\n",
       "    .dataframe thead th {\n",
       "        text-align: right;\n",
       "    }\n",
       "</style>\n",
       "<table border=\"1\" class=\"dataframe\">\n",
       "  <thead>\n",
       "    <tr style=\"text-align: right;\">\n",
       "      <th>1</th>\n",
       "      <th>Crop</th>\n",
       "      <th>Pesticides\\n(kg/ha)</th>\n",
       "      <th>Net Profit\\n(US$/ha)</th>\n",
       "    </tr>\n",
       "  </thead>\n",
       "  <tbody>\n",
       "    <tr>\n",
       "      <th>0</th>\n",
       "      <td>Maize</td>\n",
       "      <td>8.223173</td>\n",
       "      <td>160.023597</td>\n",
       "    </tr>\n",
       "    <tr>\n",
       "      <th>1</th>\n",
       "      <td>Rice</td>\n",
       "      <td>21.30536</td>\n",
       "      <td>211.836873</td>\n",
       "    </tr>\n",
       "    <tr>\n",
       "      <th>2</th>\n",
       "      <td>Wheat</td>\n",
       "      <td>8.964628</td>\n",
       "      <td>28.223521</td>\n",
       "    </tr>\n",
       "    <tr>\n",
       "      <th>3</th>\n",
       "      <td>cotton</td>\n",
       "      <td>14.959107</td>\n",
       "      <td>1754.111241</td>\n",
       "    </tr>\n",
       "    <tr>\n",
       "      <th>4</th>\n",
       "      <td>groundnut</td>\n",
       "      <td>15.850759</td>\n",
       "      <td>604.975823</td>\n",
       "    </tr>\n",
       "    <tr>\n",
       "      <th>5</th>\n",
       "      <td>rapeseed</td>\n",
       "      <td>7.033597</td>\n",
       "      <td>83.456022</td>\n",
       "    </tr>\n",
       "    <tr>\n",
       "      <th>6</th>\n",
       "      <td>soybean</td>\n",
       "      <td>8.518635</td>\n",
       "      <td>229.713243</td>\n",
       "    </tr>\n",
       "    <tr>\n",
       "      <th>7</th>\n",
       "      <td>sugbeet</td>\n",
       "      <td>7.000608</td>\n",
       "      <td>822.028666</td>\n",
       "    </tr>\n",
       "    <tr>\n",
       "      <th>8</th>\n",
       "      <td>sugcane</td>\n",
       "      <td>25.75487</td>\n",
       "      <td>466.962308</td>\n",
       "    </tr>\n",
       "  </tbody>\n",
       "</table>\n",
       "</div>"
      ],
      "text/plain": [
       "1       Crop Pesticides\\n(kg/ha) Net Profit\\n(US$/ha)\n",
       "0      Maize            8.223173           160.023597\n",
       "1       Rice            21.30536           211.836873\n",
       "2      Wheat            8.964628            28.223521\n",
       "3     cotton           14.959107          1754.111241\n",
       "4  groundnut           15.850759           604.975823\n",
       "5   rapeseed            7.033597            83.456022\n",
       "6    soybean            8.518635           229.713243\n",
       "7    sugbeet            7.000608           822.028666\n",
       "8    sugcane            25.75487           466.962308"
      ]
     },
     "execution_count": 174,
     "metadata": {},
     "output_type": "execute_result"
    }
   ],
   "source": [
    "pesticide_income_by_crop"
   ]
  }
 ],
 "metadata": {
  "kernelspec": {
   "display_name": "Python 3 (ipykernel)",
   "language": "python",
   "name": "python3"
  },
  "language_info": {
   "codemirror_mode": {
    "name": "ipython",
    "version": 3
   },
   "file_extension": ".py",
   "mimetype": "text/x-python",
   "name": "python",
   "nbconvert_exporter": "python",
   "pygments_lexer": "ipython3",
   "version": "3.11.7"
  }
 },
 "nbformat": 4,
 "nbformat_minor": 5
}
